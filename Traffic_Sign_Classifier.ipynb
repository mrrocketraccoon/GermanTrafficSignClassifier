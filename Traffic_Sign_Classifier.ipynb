{
 "cells": [
  {
   "cell_type": "markdown",
   "metadata": {},
   "source": [
    "# Self-Driving Car Engineer Nanodegree\n",
    "\n",
    "## Deep Learning\n",
    "\n",
    "## Project: Build a Traffic Sign Recognition Classifier\n",
    "\n",
    "In this notebook, a template is provided for you to implement your functionality in stages, which is required to successfully complete this project. If additional code is required that cannot be included in the notebook, be sure that the Python code is successfully imported and included in your submission if necessary. \n",
    "\n",
    "> **Note**: Once you have completed all of the code implementations, you need to finalize your work by exporting the iPython Notebook as an HTML document. Before exporting the notebook to html, all of the code cells need to have been run so that reviewers can see the final implementation and output. You can then export the notebook by using the menu above and navigating to  \\n\",\n",
    "    \"**File -> Download as -> HTML (.html)**. Include the finished document along with this notebook as your submission. \n",
    "\n",
    "In addition to implementing code, there is a writeup to complete. The writeup should be completed in a separate file, which can be either a markdown file or a pdf document. There is a [write up template](https://github.com/udacity/CarND-Traffic-Sign-Classifier-Project/blob/master/writeup_template.md) that can be used to guide the writing process. Completing the code template and writeup template will cover all of the [rubric points](https://review.udacity.com/#!/rubrics/481/view) for this project.\n",
    "\n",
    "The [rubric](https://review.udacity.com/#!/rubrics/481/view) contains \"Stand Out Suggestions\" for enhancing the project beyond the minimum requirements. The stand out suggestions are optional. If you decide to pursue the \"stand out suggestions\", you can include the code in this Ipython notebook and also discuss the results in the writeup file.\n",
    "\n",
    "\n",
    ">**Note:** Code and Markdown cells can be executed using the **Shift + Enter** keyboard shortcut. In addition, Markdown cells can be edited by typically double-clicking the cell to enter edit mode."
   ]
  },
  {
   "cell_type": "markdown",
   "metadata": {},
   "source": [
    "---\n",
    "## Step 0: Load The Data"
   ]
  },
  {
   "cell_type": "code",
   "execution_count": 1,
   "metadata": {},
   "outputs": [],
   "source": [
    "# Load pickled data\n",
    "import pickle\n",
    "\n",
    "# TODO: Fill this in based on where you saved the training and testing data\n",
    "\n",
    "training_file = '../data/train.p'\n",
    "validation_file= '../data/valid.p'\n",
    "testing_file = '../data/test.p'\n",
    "\n",
    "with open(training_file, mode='rb') as f:\n",
    "    train = pickle.load(f)\n",
    "with open(validation_file, mode='rb') as f:\n",
    "    valid = pickle.load(f)\n",
    "with open(testing_file, mode='rb') as f:\n",
    "    test = pickle.load(f)\n",
    "    \n",
    "X_train, y_train = train['features'], train['labels']\n",
    "X_valid, y_valid = valid['features'], valid['labels']\n",
    "X_test, y_test = test['features'], test['labels']"
   ]
  },
  {
   "cell_type": "markdown",
   "metadata": {},
   "source": [
    "---\n",
    "\n",
    "## Step 1: Dataset Summary & Exploration\n",
    "\n",
    "The pickled data is a dictionary with 4 key/value pairs:\n",
    "\n",
    "- `'features'` is a 4D array containing raw pixel data of the traffic sign images, (num examples, width, height, channels).\n",
    "- `'labels'` is a 1D array containing the label/class id of the traffic sign. The file `signnames.csv` contains id -> name mappings for each id.\n",
    "- `'sizes'` is a list containing tuples, (width, height) representing the original width and height the image.\n",
    "- `'coords'` is a list containing tuples, (x1, y1, x2, y2) representing coordinates of a bounding box around the sign in the image. **THESE COORDINATES ASSUME THE ORIGINAL IMAGE. THE PICKLED DATA CONTAINS RESIZED VERSIONS (32 by 32) OF THESE IMAGES**\n",
    "\n",
    "Complete the basic data summary below. Use python, numpy and/or pandas methods to calculate the data summary rather than hard coding the results. For example, the [pandas shape method](http://pandas.pydata.org/pandas-docs/stable/generated/pandas.DataFrame.shape.html) might be useful for calculating some of the summary results. "
   ]
  },
  {
   "cell_type": "markdown",
   "metadata": {},
   "source": [
    "### Provide a Basic Summary of the Data Set Using Python, Numpy and/or Pandas"
   ]
  },
  {
   "cell_type": "code",
   "execution_count": 2,
   "metadata": {},
   "outputs": [
    {
     "name": "stdout",
     "output_type": "stream",
     "text": [
      "Number of training examples = 34799\n",
      "Number of validation examples = 4410\n",
      "Number of testing examples = 12630\n",
      "Image data shape = (32, 32, 3)\n",
      "Number of classes = 43\n"
     ]
    }
   ],
   "source": [
    "import numpy as np\n",
    "import matplotlib.pyplot as plt\n",
    "### Replace each question mark with the appropriate value. \n",
    "### Use python, pandas or numpy methods rather than hard coding the results\n",
    "\n",
    "# TODO: Number of training examples\n",
    "n_train = len(X_train)\n",
    "\n",
    "# TODO: Number of validation examples\n",
    "n_validation = len(X_valid)\n",
    "\n",
    "# TODO: Number of testing examples.\n",
    "n_test = len(X_test)\n",
    "\n",
    "# TODO: What's the shape of an traffic sign image?\n",
    "image_shape = X_train[0].shape\n",
    "\n",
    "# TODO: How many unique classes/labels there are in the dataset.\n",
    "n_classes = len(set(y_train))\n",
    "\n",
    "print(\"Number of training examples =\", n_train)\n",
    "print(\"Number of validation examples =\", n_validation)\n",
    "print(\"Number of testing examples =\", n_test)\n",
    "print(\"Image data shape =\", image_shape)\n",
    "print(\"Number of classes =\", n_classes)"
   ]
  },
  {
   "cell_type": "markdown",
   "metadata": {},
   "source": [
    "### Include an exploratory visualization of the dataset"
   ]
  },
  {
   "cell_type": "markdown",
   "metadata": {},
   "source": [
    "Visualize the German Traffic Signs Dataset using the pickled file(s). This is open ended, suggestions include: plotting traffic sign images, plotting the count of each sign, etc. \n",
    "\n",
    "The [Matplotlib](http://matplotlib.org/) [examples](http://matplotlib.org/examples/index.html) and [gallery](http://matplotlib.org/gallery.html) pages are a great resource for doing visualizations in Python.\n",
    "\n",
    "**NOTE:** It's recommended you start with something simple first. If you wish to do more, come back to it after you've completed the rest of the sections. It can be interesting to look at the distribution of classes in the training, validation and test set. Is the distribution the same? Are there more examples of some classes than others?"
   ]
  },
  {
   "cell_type": "code",
   "execution_count": 3,
   "metadata": {},
   "outputs": [
    {
     "name": "stdout",
     "output_type": "stream",
     "text": [
      "The sample has label number: 5\n"
     ]
    },
    {
     "data": {
      "image/png": "[encoded data removed]",
      "text/plain": [
       "<matplotlib.figure.Figure at 0x7f5e48cdfba8>"
      ]
     },
     "metadata": {
      "needs_background": "light"
     },
     "output_type": "display_data"
    },
    {
     "data": {
      "image/png": "[encoded data removed]",
      "text/plain": [
       "<matplotlib.figure.Figure at 0x7f5e2569f278>"
      ]
     },
     "metadata": {
      "needs_background": "light"
     },
     "output_type": "display_data"
    }
   ],
   "source": [
    "### Data exploration visualization code goes here.\n",
    "### Feel free to use as many code cells as needed.\n",
    "import matplotlib.pyplot as plt\n",
    "import random\n",
    "# Visualizations will be shown in the notebook.\n",
    "%matplotlib inline\n",
    "\n",
    "index = random.randint(0, len(X_train))\n",
    "image = X_train[index].squeeze()\n",
    "\n",
    "print(\"The sample has label number: {}\".format(y_train[index]))\n",
    "plt.figure(figsize=(1,1))\n",
    "plt.imshow(image, cmap=\"gray\")\n",
    "plt.show()\n",
    "\n",
    "classes, indices, class_counts = np.unique(y_train, return_index = True, return_counts = True)\n",
    "\n",
    "# display the distribution of classes in the training set\n",
    "plt.bar(np.arange(43), class_counts, align='center')\n",
    "plt.xlabel('Class')\n",
    "plt.ylabel('Number of training examples')\n",
    "plt.xlim([-1, 43])\n",
    "plt.savefig('dataset_visualization.png')\n",
    "plt.show()"
   ]
  },
  {
   "cell_type": "markdown",
   "metadata": {},
   "source": [
    "----\n",
    "\n",
    "## Step 2: Design and Test a Model Architecture\n",
    "\n",
    "Design and implement a deep learning model that learns to recognize traffic signs. Train and test your model on the [German Traffic Sign Dataset](http://benchmark.ini.rub.de/?section=gtsrb&subsection=dataset).\n",
    "\n",
    "The LeNet-5 implementation shown in the [classroom](https://classroom.udacity.com/nanodegrees/nd013/parts/fbf77062-5703-404e-b60c-95b78b2f3f9e/modules/6df7ae49-c61c-4bb2-a23e-6527e69209ec/lessons/601ae704-1035-4287-8b11-e2c2716217ad/concepts/d4aca031-508f-4e0b-b493-e7b706120f81) at the end of the CNN lesson is a solid starting point. You'll have to change the number of classes and possibly the preprocessing, but aside from that it's plug and play! \n",
    "\n",
    "With the LeNet-5 solution from the lecture, you should expect a validation set accuracy of about 0.89. To meet specifications, the validation set accuracy will need to be at least 0.93. It is possible to get an even higher accuracy, but 0.93 is the minimum for a successful project submission. \n",
    "\n",
    "There are various aspects to consider when thinking about this problem:\n",
    "\n",
    "- Neural network architecture (is the network over or underfitting?)\n",
    "- Play around preprocessing techniques (normalization, rgb to grayscale, etc)\n",
    "- Number of examples per label (some have more than others).\n",
    "- Generate fake data.\n",
    "\n",
    "Here is an example of a [published baseline model on this problem](http://yann.lecun.com/exdb/publis/pdf/sermanet-ijcnn-11.pdf). It's not required to be familiar with the approach used in the paper but, it's good practice to try to read papers like these."
   ]
  },
  {
   "cell_type": "markdown",
   "metadata": {},
   "source": [
    "### Pre-process the Data Set (normalization, grayscale, etc.)"
   ]
  },
  {
   "cell_type": "markdown",
   "metadata": {},
   "source": [
    "Minimally, the image data should be normalized so that the data has mean zero and equal variance. For image data, `(pixel - 128)/ 128` is a quick way to approximately normalize the data and can be used in this project. \n",
    "\n",
    "Other pre-processing steps are optional. You can try different techniques to see if it improves performance. \n",
    "\n",
    "Use the code cell (or multiple code cells, if necessary) to implement the first step of your project."
   ]
  },
  {
   "cell_type": "code",
   "execution_count": 4,
   "metadata": {},
   "outputs": [],
   "source": [
    "### Preprocess the data here. It is required to normalize the data. Other preprocessing steps could include \n",
    "### converting to grayscale, etc.\n",
    "### Feel free to use as many code cells as needed.\n",
    "import numpy as np\n",
    "\n",
    "\n",
    "X_train_gray = np.sum(X_train/3, axis=3, keepdims=True)\n",
    "X_train_normalized = (X_train_gray-128)/128\n",
    "\n",
    "X_validation_gray = np.sum(X_valid/3, axis=3, keepdims=True)\n",
    "X_validation_normalized = (X_validation_gray-128)/128\n",
    "\n",
    "X_test_gray = np.sum(X_test/3, axis=3, keepdims=True)\n",
    "X_test_normalized = (X_test_gray-128)/128\n"
   ]
  },
  {
   "cell_type": "code",
   "execution_count": 5,
   "metadata": {},
   "outputs": [
    {
     "data": {
      "image/png": "[encoded data removed]",
      "text/plain": [
       "<matplotlib.figure.Figure at 0x7f5e2569f4a8>"
      ]
     },
     "metadata": {
      "needs_background": "light"
     },
     "output_type": "display_data"
    }
   ],
   "source": [
    "implot = plt.figure(figsize=(8,4))\n",
    "plt.subplot(1,2,1)\n",
    "plt.xlabel('Sample Speed Limit 20 Km/h')\n",
    "plt.imshow(X_train[10000])\n",
    "plt.subplot(1,2,2)\n",
    "plt.xlabel('Grayscale sample')\n",
    "plt.imshow(X_train_gray[10000].squeeze(axis=2), cmap=\"gray\")\n",
    "plt.savefig('grayscale.png')\n",
    "plt.show()"
   ]
  },
  {
   "cell_type": "markdown",
   "metadata": {},
   "source": [
    "### Model Architecture"
   ]
  },
  {
   "cell_type": "code",
   "execution_count": 6,
   "metadata": {},
   "outputs": [],
   "source": [
    "### Define your architecture here.\n",
    "### Feel free to use as many code cells as needed.\n",
    "from tensorflow.contrib.layers import flatten\n",
    "\n",
    "def LeNet(x):    \n",
    "    # Arguments used for tf.truncated_normal, randomly defines variables for the weights and biases for each layer\n",
    "    mu = 0\n",
    "    sigma = 0.1\n",
    "    \n",
    "    # SOLUTION: Layer 1: Convolutional. Input = 32x32x1. Output = 28x28x6.\n",
    "    conv1_W = tf.Variable(tf.truncated_normal(shape=(5, 5, 1, 6), mean = mu, stddev = sigma))\n",
    "    conv1_b = tf.Variable(tf.zeros(6))\n",
    "    conv1   = tf.nn.conv2d(x, conv1_W, strides=[1, 1, 1, 1], padding='VALID') + conv1_b\n",
    "\n",
    "    # SOLUTION: Activation.\n",
    "    conv1 = tf.nn.relu(conv1, name='convolution1_relu')\n",
    "\n",
    "    # SOLUTION: Pooling. Input = 28x28x6. Output = 14x14x6.\n",
    "    conv1 = tf.nn.max_pool(conv1, ksize=[1, 2, 2, 1], strides=[1, 2, 2, 1], padding='VALID',  name='convolution1_pooling')\n",
    "\n",
    "    # SOLUTION: Layer 2: Convolutional. Output = 10x10x16.\n",
    "    conv2_W = tf.Variable(tf.truncated_normal(shape=(5, 5, 6, 16), mean = mu, stddev = sigma))\n",
    "    conv2_b = tf.Variable(tf.zeros(16))\n",
    "    conv2   = tf.nn.conv2d(conv1, conv2_W, strides=[1, 1, 1, 1], padding='VALID') + conv2_b\n",
    "    \n",
    "    # SOLUTION: Activation.\n",
    "    conv2 = tf.nn.relu(conv2, name='convolution2_relu')\n",
    "\n",
    "    # SOLUTION: Pooling. Input = 10x10x16. Output = 5x5x16.\n",
    "    conv2 = tf.nn.max_pool(conv2, ksize=[1, 2, 2, 1], strides=[1, 2, 2, 1], padding='VALID')\n",
    "\n",
    "    # SOLUTION: Flatten. Input = 5x5x16. Output = 400.\n",
    "    fc0 = flatten(conv2)\n",
    "    fc0 = tf.nn.dropout(fc0, keep_prob)\n",
    "    \n",
    "    # SOLUTION: Layer 3: Fully Connected. Input = 400. Output = 120.\n",
    "    fc1_W = tf.Variable(tf.truncated_normal(shape=(400, 120), mean = mu, stddev = sigma))\n",
    "    fc1_b = tf.Variable(tf.zeros(120))\n",
    "    fc1 = tf.matmul(fc0, fc1_W) + fc1_b\n",
    "    \n",
    "    # SOLUTION: Activation.\n",
    "    fc1 = tf.nn.relu(fc1)\n",
    "    fc1 = tf.nn.dropout(fc1, keep_prob)\n",
    "\n",
    "\n",
    "    # SOLUTION: Layer 4: Fully Connected. Input = 120. Output = 84.\n",
    "    fc2_W  = tf.Variable(tf.truncated_normal(shape=(120, 84), mean = mu, stddev = sigma))\n",
    "    fc2_b  = tf.Variable(tf.zeros(84))\n",
    "    fc2    = tf.matmul(fc1, fc2_W) + fc2_b\n",
    "    \n",
    "    # SOLUTION: Activation.\n",
    "    fc2    = tf.nn.relu(fc2)\n",
    "    fc2 = tf.nn.dropout(fc2, keep_prob)\n",
    "\n",
    "    # SOLUTION: Layer 5: Fully Connected. Input = 84. Output = 43.\n",
    "    fc3_W  = tf.Variable(tf.truncated_normal(shape=(84, 43), mean = mu, stddev = sigma))\n",
    "    fc3_b  = tf.Variable(tf.zeros(43))\n",
    "    logits = tf.matmul(fc2, fc3_W) + fc3_b\n",
    "    \n",
    "    return logits"
   ]
  },
  {
   "cell_type": "markdown",
   "metadata": {},
   "source": [
    "### Train, Validate and Test the Model"
   ]
  },
  {
   "cell_type": "markdown",
   "metadata": {},
   "source": [
    "A validation set can be used to assess how well the model is performing. A low accuracy on the training and validation\n",
    "sets imply underfitting. A high accuracy on the training set but low accuracy on the validation set implies overfitting."
   ]
  },
  {
   "cell_type": "code",
   "execution_count": 9,
   "metadata": {},
   "outputs": [],
   "source": [
    "def plot_history(tr_accuracy_history, tr_loss_history, val_accuracy_history, val_loss_history):\n",
    "\n",
    "    implot = plt.figure(figsize=(16,6))\n",
    "    plt.subplot(1,2,1)\n",
    "    plt.plot(tr_loss_history, '-o')\n",
    "    plt.plot(val_loss_history, '-o')\n",
    "    plt.legend(['trn_loss', 'val_loss'], loc='upper right')\n",
    "    plt.xlabel('epoch')\n",
    "    plt.ylabel('loss')\n",
    "\n",
    "    plt.subplot(1,2,2)\n",
    "    plt.plot(tr_accuracy_history, '-o')\n",
    "    plt.plot(val_accuracy_history, '-o')\n",
    "    plt.legend(['trn_accuracy', 'val_accuracy'], loc='lower right')\n",
    "    plt.xlabel('epoch')\n",
    "    plt.ylabel('accuracy')\n",
    "    plt.savefig('accuracy-loss.png')\n",
    "    plt.show()"
   ]
  },
  {
   "cell_type": "code",
   "execution_count": 8,
   "metadata": {},
   "outputs": [
    {
     "name": "stdout",
     "output_type": "stream",
     "text": [
      "Training...\n",
      "EPOCH 1 ...\n",
      "Training Accuracy = 0.658, Training Loss = 1.202\n",
      "Validation Accuracy = 0.620, Validation Loss = 1.328\n",
      "EPOCH 2 ...\n",
      "Training Accuracy = 0.867, Training Loss = 0.500\n",
      "Validation Accuracy = 0.816, Validation Loss = 0.620\n",
      "EPOCH 3 ...\n",
      "Training Accuracy = 0.922, Training Loss = 0.322\n",
      "Validation Accuracy = 0.863, Validation Loss = 0.450\n",
      "EPOCH 4 ...\n",
      "Training Accuracy = 0.943, Training Loss = 0.233\n",
      "Validation Accuracy = 0.903, Validation Loss = 0.347\n",
      "EPOCH 5 ...\n",
      "Training Accuracy = 0.958, Training Loss = 0.171\n",
      "Validation Accuracy = 0.919, Validation Loss = 0.292\n",
      "EPOCH 6 ...\n",
      "Training Accuracy = 0.968, Training Loss = 0.151\n",
      "Validation Accuracy = 0.921, Validation Loss = 0.282\n",
      "EPOCH 7 ...\n",
      "Training Accuracy = 0.975, Training Loss = 0.118\n",
      "Validation Accuracy = 0.930, Validation Loss = 0.257\n",
      "EPOCH 8 ...\n",
      "Training Accuracy = 0.977, Training Loss = 0.100\n",
      "Validation Accuracy = 0.936, Validation Loss = 0.228\n",
      "EPOCH 9 ...\n",
      "Training Accuracy = 0.978, Training Loss = 0.089\n",
      "Validation Accuracy = 0.943, Validation Loss = 0.213\n",
      "EPOCH 10 ...\n",
      "Training Accuracy = 0.983, Training Loss = 0.077\n",
      "Validation Accuracy = 0.946, Validation Loss = 0.189\n",
      "EPOCH 11 ...\n",
      "Training Accuracy = 0.986, Training Loss = 0.064\n",
      "Validation Accuracy = 0.951, Validation Loss = 0.187\n",
      "EPOCH 12 ...\n",
      "Training Accuracy = 0.987, Training Loss = 0.057\n",
      "Validation Accuracy = 0.948, Validation Loss = 0.192\n",
      "EPOCH 13 ...\n",
      "Training Accuracy = 0.989, Training Loss = 0.053\n",
      "Validation Accuracy = 0.946, Validation Loss = 0.187\n",
      "EPOCH 14 ...\n",
      "Training Accuracy = 0.989, Training Loss = 0.051\n",
      "Validation Accuracy = 0.945, Validation Loss = 0.186\n",
      "EPOCH 15 ...\n",
      "Training Accuracy = 0.991, Training Loss = 0.042\n",
      "Validation Accuracy = 0.957, Validation Loss = 0.156\n",
      "EPOCH 16 ...\n",
      "Training Accuracy = 0.992, Training Loss = 0.036\n",
      "Validation Accuracy = 0.955, Validation Loss = 0.154\n",
      "EPOCH 17 ...\n",
      "Training Accuracy = 0.992, Training Loss = 0.037\n",
      "Validation Accuracy = 0.953, Validation Loss = 0.164\n",
      "EPOCH 18 ...\n",
      "Training Accuracy = 0.993, Training Loss = 0.034\n",
      "Validation Accuracy = 0.959, Validation Loss = 0.153\n",
      "EPOCH 19 ...\n",
      "Training Accuracy = 0.992, Training Loss = 0.035\n",
      "Validation Accuracy = 0.954, Validation Loss = 0.157\n",
      "EPOCH 20 ...\n",
      "Training Accuracy = 0.994, Training Loss = 0.030\n",
      "Validation Accuracy = 0.950, Validation Loss = 0.188\n",
      "EPOCH 21 ...\n",
      "Training Accuracy = 0.994, Training Loss = 0.029\n",
      "Validation Accuracy = 0.955, Validation Loss = 0.173\n",
      "EPOCH 22 ...\n",
      "Training Accuracy = 0.994, Training Loss = 0.026\n",
      "Validation Accuracy = 0.957, Validation Loss = 0.155\n",
      "EPOCH 23 ...\n",
      "Training Accuracy = 0.994, Training Loss = 0.032\n",
      "Validation Accuracy = 0.951, Validation Loss = 0.173\n",
      "EPOCH 24 ...\n",
      "Training Accuracy = 0.992, Training Loss = 0.030\n",
      "Validation Accuracy = 0.951, Validation Loss = 0.184\n",
      "EPOCH 25 ...\n",
      "Training Accuracy = 0.996, Training Loss = 0.023\n",
      "Validation Accuracy = 0.956, Validation Loss = 0.165\n",
      "EPOCH 26 ...\n",
      "Training Accuracy = 0.996, Training Loss = 0.019\n",
      "Validation Accuracy = 0.958, Validation Loss = 0.156\n",
      "EPOCH 27 ...\n",
      "Training Accuracy = 0.996, Training Loss = 0.018\n",
      "Validation Accuracy = 0.956, Validation Loss = 0.164\n",
      "EPOCH 28 ...\n",
      "Training Accuracy = 0.996, Training Loss = 0.017\n",
      "Validation Accuracy = 0.958, Validation Loss = 0.170\n",
      "EPOCH 29 ...\n",
      "Training Accuracy = 0.996, Training Loss = 0.018\n",
      "Validation Accuracy = 0.954, Validation Loss = 0.197\n",
      "EPOCH 30 ...\n",
      "Training Accuracy = 0.997, Training Loss = 0.016\n",
      "Validation Accuracy = 0.960, Validation Loss = 0.157\n",
      "EPOCH 31 ...\n",
      "Training Accuracy = 0.997, Training Loss = 0.015\n",
      "Validation Accuracy = 0.956, Validation Loss = 0.181\n",
      "EPOCH 32 ...\n",
      "Training Accuracy = 0.996, Training Loss = 0.017\n",
      "Validation Accuracy = 0.957, Validation Loss = 0.196\n",
      "EPOCH 33 ...\n",
      "Training Accuracy = 0.997, Training Loss = 0.014\n",
      "Validation Accuracy = 0.956, Validation Loss = 0.193\n",
      "EPOCH 34 ...\n",
      "Training Accuracy = 0.997, Training Loss = 0.013\n",
      "Validation Accuracy = 0.957, Validation Loss = 0.178\n",
      "EPOCH 35 ...\n",
      "Training Accuracy = 0.997, Training Loss = 0.013\n",
      "Validation Accuracy = 0.955, Validation Loss = 0.220\n",
      "EPOCH 36 ...\n",
      "Training Accuracy = 0.997, Training Loss = 0.013\n",
      "Validation Accuracy = 0.953, Validation Loss = 0.211\n",
      "EPOCH 37 ...\n",
      "Training Accuracy = 0.998, Training Loss = 0.012\n",
      "Validation Accuracy = 0.954, Validation Loss = 0.187\n",
      "EPOCH 38 ...\n",
      "Training Accuracy = 0.998, Training Loss = 0.013\n",
      "Validation Accuracy = 0.959, Validation Loss = 0.182\n",
      "EPOCH 39 ...\n",
      "Training Accuracy = 0.998, Training Loss = 0.011\n",
      "Validation Accuracy = 0.961, Validation Loss = 0.185\n",
      "EPOCH 40 ...\n",
      "Training Accuracy = 0.998, Training Loss = 0.011\n",
      "Validation Accuracy = 0.961, Validation Loss = 0.176\n",
      "EPOCH 41 ...\n",
      "Training Accuracy = 0.998, Training Loss = 0.012\n",
      "Validation Accuracy = 0.961, Validation Loss = 0.181\n",
      "EPOCH 42 ...\n",
      "Training Accuracy = 0.998, Training Loss = 0.010\n",
      "Validation Accuracy = 0.959, Validation Loss = 0.195\n",
      "EPOCH 43 ...\n",
      "Training Accuracy = 0.998, Training Loss = 0.010\n",
      "Validation Accuracy = 0.960, Validation Loss = 0.184\n",
      "EPOCH 44 ...\n",
      "Training Accuracy = 0.998, Training Loss = 0.009\n",
      "Validation Accuracy = 0.958, Validation Loss = 0.208\n",
      "EPOCH 45 ...\n",
      "Training Accuracy = 0.998, Training Loss = 0.010\n",
      "Validation Accuracy = 0.961, Validation Loss = 0.180\n",
      "EPOCH 46 ...\n",
      "Training Accuracy = 0.999, Training Loss = 0.010\n",
      "Validation Accuracy = 0.962, Validation Loss = 0.217\n",
      "EPOCH 47 ...\n",
      "Training Accuracy = 0.998, Training Loss = 0.010\n",
      "Validation Accuracy = 0.957, Validation Loss = 0.221\n",
      "EPOCH 48 ...\n",
      "Training Accuracy = 0.999, Training Loss = 0.007\n",
      "Validation Accuracy = 0.965, Validation Loss = 0.200\n",
      "EPOCH 49 ...\n",
      "Training Accuracy = 0.999, Training Loss = 0.008\n",
      "Validation Accuracy = 0.962, Validation Loss = 0.197\n",
      "EPOCH 50 ...\n",
      "Training Accuracy = 0.998, Training Loss = 0.009\n",
      "Validation Accuracy = 0.962, Validation Loss = 0.171\n",
      "EPOCH 51 ...\n",
      "Training Accuracy = 0.999, Training Loss = 0.008\n",
      "Validation Accuracy = 0.961, Validation Loss = 0.202\n",
      "EPOCH 52 ...\n",
      "Training Accuracy = 0.998, Training Loss = 0.007\n",
      "Validation Accuracy = 0.961, Validation Loss = 0.223\n",
      "EPOCH 53 ...\n",
      "Training Accuracy = 0.999, Training Loss = 0.007\n",
      "Validation Accuracy = 0.962, Validation Loss = 0.176\n",
      "EPOCH 54 ...\n",
      "Training Accuracy = 0.999, Training Loss = 0.008\n",
      "Validation Accuracy = 0.963, Validation Loss = 0.162\n",
      "EPOCH 55 ...\n",
      "Training Accuracy = 0.999, Training Loss = 0.006\n",
      "Validation Accuracy = 0.959, Validation Loss = 0.193\n",
      "EPOCH 56 ...\n",
      "Training Accuracy = 0.999, Training Loss = 0.008\n",
      "Validation Accuracy = 0.959, Validation Loss = 0.214\n",
      "EPOCH 57 ...\n",
      "Training Accuracy = 0.999, Training Loss = 0.005\n",
      "Validation Accuracy = 0.960, Validation Loss = 0.184\n",
      "EPOCH 58 ...\n",
      "Training Accuracy = 0.998, Training Loss = 0.009\n",
      "Validation Accuracy = 0.956, Validation Loss = 0.177\n",
      "EPOCH 59 ...\n",
      "Training Accuracy = 0.999, Training Loss = 0.005\n",
      "Validation Accuracy = 0.958, Validation Loss = 0.217\n",
      "EPOCH 60 ...\n",
      "Training Accuracy = 0.999, Training Loss = 0.007\n",
      "Validation Accuracy = 0.959, Validation Loss = 0.204\n",
      "Model saved\n"
     ]
    },
    {
     "data": {
      "image/png": "[encoded data removed]",
      "text/plain": [
       "<matplotlib.figure.Figure at 0x7f5d9e5c7eb8>"
      ]
     },
     "metadata": {
      "needs_background": "light"
     },
     "output_type": "display_data"
    }
   ],
   "source": [
    "### Train your model here.\n",
    "### Calculate and report the accuracy on the training and validation set.\n",
    "### Once a final model architecture is selected, \n",
    "### the accuracy on the test set should be calculated and reported as well.\n",
    "### Feel free to use as many code cells as needed.\n",
    "import tensorflow as tf\n",
    "from sklearn.utils import shuffle\n",
    "\n",
    "#Features and labels\n",
    "x = tf.placeholder(tf.float32, (None, 32, 32, 1))\n",
    "y = tf.placeholder(tf.int32, (None))\n",
    "one_hot_y = tf.one_hot(y, 43)\n",
    "keep_prob = tf.placeholder(tf.float32, (None))\n",
    "\n",
    "tr_accuracy_history = []\n",
    "val_accuracy_history = []\n",
    "tr_loss_history = []\n",
    "val_loss_history = []\n",
    "\n",
    "#Training Pipeline\n",
    "EPOCHS = 60\n",
    "BATCH_SIZE = 128\n",
    "rate = 0.001\n",
    "model_location = './models/modified_lenet'\n",
    "\n",
    "logits = LeNet(x)\n",
    "cross_entropy = tf.nn.softmax_cross_entropy_with_logits(labels=one_hot_y, logits=logits)\n",
    "    \n",
    "loss_operation = tf.reduce_mean(cross_entropy)\n",
    "optimizer = tf.train.AdamOptimizer(learning_rate = rate)\n",
    "training_operation = optimizer.minimize(loss_operation)\n",
    "\n",
    "#Model Evaluation\n",
    "correct_prediction = tf.equal(tf.argmax(logits, 1), tf.argmax(one_hot_y, 1))\n",
    "accuracy_operation = tf.reduce_mean(tf.cast(correct_prediction, tf.float32))\n",
    "saver = tf.train.Saver()\n",
    "\n",
    "def evaluate(X_data, y_data):\n",
    "    num_examples = len(X_data)\n",
    "    total_accuracy = 0\n",
    "    cross_entropy_loss = []\n",
    "    sess = tf.get_default_session()\n",
    "    for offset in range(0, num_examples, BATCH_SIZE):\n",
    "        batch_x, batch_y = X_data[offset:offset+BATCH_SIZE], y_data[offset:offset+BATCH_SIZE]\n",
    "        [accuracy, loss] = sess.run([accuracy_operation, cross_entropy], feed_dict={x: batch_x, y: batch_y, keep_prob: 1.0})\n",
    "        total_accuracy += (accuracy * len(batch_x))\n",
    "        cross_entropy_loss.extend(loss)\n",
    "    return total_accuracy / num_examples, np.mean(cross_entropy_loss)\n",
    "\n",
    "#Train the model\n",
    "with tf.Session() as sess:\n",
    "    sess.run(tf.global_variables_initializer())\n",
    "    num_examples = len(X_train)\n",
    "    \n",
    "    print(\"Training...\")\n",
    "    for i in range(EPOCHS):\n",
    "        X_train_preprocessed, y_train_preprocessed = shuffle(X_train_normalized, y_train)\n",
    "        for offset in range(0, num_examples, BATCH_SIZE):\n",
    "            end = offset + BATCH_SIZE\n",
    "            batch_x, batch_y = X_train_preprocessed[offset:end], y_train_preprocessed[offset:end]\n",
    "            sess.run(training_operation, feed_dict={x: batch_x, y: batch_y, keep_prob: 0.7})\n",
    "        \n",
    "        training_accuracy, training_loss = evaluate(X_train_normalized, y_train)\n",
    "        tr_accuracy_history.append(training_accuracy)\n",
    "        tr_loss_history.append(training_loss)\n",
    "        \n",
    "        validation_accuracy, validation_loss = evaluate(X_validation_normalized, y_valid)\n",
    "        val_accuracy_history.append(validation_accuracy)\n",
    "        val_loss_history.append(validation_loss)\n",
    "        \n",
    "        print(\"EPOCH {} ...\".format(i+1))\n",
    "        print(\"Training Accuracy = {:.3f}, Training Loss = {:.3f}\".format(training_accuracy, training_loss))\n",
    "        print(\"Validation Accuracy = {:.3f}, Validation Loss = {:.3f}\".format(validation_accuracy, validation_loss))\n",
    "    saver.save(sess, model_location)\n",
    "    print(\"Model saved\")\n",
    "plot_history(tr_accuracy_history, tr_loss_history, val_accuracy_history, val_loss_history)"
   ]
  },
  {
   "cell_type": "markdown",
   "metadata": {},
   "source": [
    "---\n",
    "\n",
    "## Step 3: Test a Model on New Images\n",
    "\n",
    "To give yourself more insight into how your model is working, download at least five pictures of German traffic signs from the web and use your model to predict the traffic sign type.\n",
    "\n",
    "You may find `signnames.csv` useful as it contains mappings from the class id (integer) to the actual sign name."
   ]
  },
  {
   "cell_type": "code",
   "execution_count": 11,
   "metadata": {},
   "outputs": [
    {
     "name": "stdout",
     "output_type": "stream",
     "text": [
      "INFO:tensorflow:Restoring parameters from ./models/modified_lenet\n",
      "0.947743467745\n"
     ]
    }
   ],
   "source": [
    "prediction=tf.argmax(logits,1)\n",
    "with tf.Session() as sess:\n",
    "    saver.restore(sess, model_location)\n",
    "    predictions = sess.run(prediction, feed_dict={x: X_test_normalized, keep_prob: 1.0}) \n",
    "    accuracy, _ = evaluate(X_test_normalized,y_test)\n",
    "    print(accuracy)"
   ]
  },
  {
   "cell_type": "markdown",
   "metadata": {},
   "source": [
    "### Load and Output the Images"
   ]
  },
  {
   "cell_type": "code",
   "execution_count": 13,
   "metadata": {},
   "outputs": [
    {
     "data": {
      "image/png": "[encoded data removed]",
      "text/plain": [
       "<matplotlib.figure.Figure at 0x7f5d9c0a0828>"
      ]
     },
     "metadata": {
      "needs_background": "light"
     },
     "output_type": "display_data"
    }
   ],
   "source": [
    "from PIL import Image\n",
    "import numpy as np\n",
    "import glob\n",
    "import matplotlib.pyplot as plt\n",
    "\n",
    "### Load the images and plot them here.\n",
    "### Feel free to use as many code cells as needed.\n",
    "columns = 5\n",
    "rows = 1\n",
    "i = 1\n",
    "fig = plt.figure(figsize=(12,2))\n",
    "X_new = []\n",
    "y_new = []\n",
    "for image_file in glob.glob('test_images/' + \"*.jpeg\"):\n",
    "    image = Image.open(image_file)\n",
    "    image = image.resize((32,32))\n",
    "    plot = fig.add_subplot(rows, columns, i)\n",
    "    plt.imshow(image)\n",
    "    label_str = image_file[len('test_images/'):][:2]\n",
    "    label = int(label_str)\n",
    "    plot.title.set_text(label)\n",
    "    X_new.append(np.asarray(image))\n",
    "    y_new.append(np.asarray(label))\n",
    "    i += 1\n",
    "plt.savefig('web_images.png')\n",
    "X_new = np.array(X_new)\n",
    "y_new = np.array(y_new)"
   ]
  },
  {
   "cell_type": "markdown",
   "metadata": {},
   "source": [
    "### Predict the Sign Type for Each Image"
   ]
  },
  {
   "cell_type": "code",
   "execution_count": 14,
   "metadata": {},
   "outputs": [
    {
     "name": "stdout",
     "output_type": "stream",
     "text": [
      "INFO:tensorflow:Restoring parameters from ./models/modified_lenet\n",
      "[24 11 34 26 40]\n"
     ]
    }
   ],
   "source": [
    "### Run the predictions here and use the model to output the prediction for each image.\n",
    "### Make sure to pre-process the images with the same pre-processing pipeline used earlier.\n",
    "### Feel free to use as many code cells as needed.\n",
    "\n",
    "X_new_gray = np.sum(X_new/3, axis=3, keepdims=True)\n",
    "X_new_normalized = (X_new_gray-128)/128\n",
    "\n",
    "prediction=tf.argmax(logits,1)\n",
    "\n",
    "with tf.Session() as sess:\n",
    "    saver.restore(sess, model_location)\n",
    "    predictions = sess.run(prediction, feed_dict={x: X_new_normalized, keep_prob: 1.0})    \n",
    "    print (predictions)"
   ]
  },
  {
   "cell_type": "markdown",
   "metadata": {},
   "source": [
    "### Analyze Performance"
   ]
  },
  {
   "cell_type": "code",
   "execution_count": 15,
   "metadata": {},
   "outputs": [
    {
     "name": "stdout",
     "output_type": "stream",
     "text": [
      "INFO:tensorflow:Restoring parameters from ./models/modified_lenet\n",
      "0.800000011921\n"
     ]
    }
   ],
   "source": [
    "### Calculate the accuracy for these 5 new images. \n",
    "### For example, if the model predicted 1 out of 5 signs correctly, it's 20% accurate on these new images.\n",
    "with tf.Session() as sess:\n",
    "    saver.restore(sess, model_location)\n",
    "    accuracy, _ = evaluate(X_new_normalized,y_new)\n",
    "    print(accuracy)"
   ]
  },
  {
   "cell_type": "markdown",
   "metadata": {},
   "source": [
    "### Output Top 5 Softmax Probabilities For Each Image Found on the Web"
   ]
  },
  {
   "cell_type": "markdown",
   "metadata": {},
   "source": [
    "For each of the new images, print out the model's softmax probabilities to show the **certainty** of the model's predictions (limit the output to the top 5 probabilities for each image). [`tf.nn.top_k`](https://www.tensorflow.org/versions/r0.12/api_docs/python/nn.html#top_k) could prove helpful here. \n",
    "\n",
    "The example below demonstrates how tf.nn.top_k can be used to find the top k predictions for each image.\n",
    "\n",
    "`tf.nn.top_k` will return the values and indices (class ids) of the top k predictions. So if k=3, for each sign, it'll return the 3 largest probabilities (out of a possible 43) and the correspoding class ids.\n",
    "\n",
    "Take this numpy array as an example. The values in the array represent predictions. The array contains softmax probabilities for five candidate images with six possible classes. `tf.nn.top_k` is used to choose the three classes with the highest probability:\n",
    "\n",
    "```\n",
    "# (5, 6) array\n",
    "a = np.array([[ 0.24879643,  0.07032244,  0.12641572,  0.34763842,  0.07893497,\n",
    "         0.12789202],\n",
    "       [ 0.28086119,  0.27569815,  0.08594638,  0.0178669 ,  0.18063401,\n",
    "         0.15899337],\n",
    "       [ 0.26076848,  0.23664738,  0.08020603,  0.07001922,  0.1134371 ,\n",
    "         0.23892179],\n",
    "       [ 0.11943333,  0.29198961,  0.02605103,  0.26234032,  0.1351348 ,\n",
    "         0.16505091],\n",
    "       [ 0.09561176,  0.34396535,  0.0643941 ,  0.16240774,  0.24206137,\n",
    "         0.09155967]])\n",
    "```\n",
    "\n",
    "Running it through `sess.run(tf.nn.top_k(tf.constant(a), k=3))` produces:\n",
    "\n",
    "```\n",
    "TopKV2(values=array([[ 0.34763842,  0.24879643,  0.12789202],\n",
    "       [ 0.28086119,  0.27569815,  0.18063401],\n",
    "       [ 0.26076848,  0.23892179,  0.23664738],\n",
    "       [ 0.29198961,  0.26234032,  0.16505091],\n",
    "       [ 0.34396535,  0.24206137,  0.16240774]]), indices=array([[3, 0, 5],\n",
    "       [0, 1, 4],\n",
    "       [0, 5, 1],\n",
    "       [1, 3, 5],\n",
    "       [1, 4, 3]], dtype=int32))\n",
    "```\n",
    "\n",
    "Looking just at the first row we get `[ 0.34763842,  0.24879643,  0.12789202]`, you can confirm these are the 3 largest probabilities in `a`. You'll also notice `[3, 0, 5]` are the corresponding indices."
   ]
  },
  {
   "cell_type": "code",
   "execution_count": 16,
   "metadata": {},
   "outputs": [
    {
     "name": "stdout",
     "output_type": "stream",
     "text": [
      "INFO:tensorflow:Restoring parameters from ./models/modified_lenet\n",
      "TopKV2(values=array([[  9.99999642e-01,   2.19041240e-07,   8.29418099e-08,\n",
      "          1.52671653e-09,   1.78557117e-11],\n",
      "       [  9.99907970e-01,   9.20597886e-05,   2.87629045e-14,\n",
      "          2.25267972e-14,   1.78008156e-16],\n",
      "       [  9.99993801e-01,   5.92170136e-06,   2.52887645e-07,\n",
      "          2.22226699e-08,   3.22031779e-09],\n",
      "       [  1.00000000e+00,   2.37724707e-09,   1.38984976e-10,\n",
      "          4.90740851e-11,   1.30337069e-11],\n",
      "       [  4.22985435e-01,   4.08623725e-01,   1.54309660e-01,\n",
      "          1.27071124e-02,   8.41016357e-04]], dtype=float32), indices=array([[24, 25, 28, 19, 26],\n",
      "       [11, 27, 28, 30, 18],\n",
      "       [34, 38, 35, 30,  3],\n",
      "       [26, 18, 29, 40, 28],\n",
      "       [40, 11, 28, 30, 16]], dtype=int32))\n"
     ]
    }
   ],
   "source": [
    "### Print out the top five softmax probabilities for the predictions on the German traffic sign images found on the web. \n",
    "### Feel free to use as many code cells as needed.\n",
    "with tf.Session() as sess:\n",
    "    saver.restore(sess, model_location)\n",
    "    preds = tf.nn.softmax(logits)\n",
    "    top = sess.run(tf.nn.top_k(preds, k=5), {x : X_new_normalized, keep_prob: 1.0})\n",
    "    print(top)"
   ]
  },
  {
   "cell_type": "markdown",
   "metadata": {},
   "source": [
    "### Project Writeup\n",
    "\n",
    "Once you have completed the code implementation, document your results in a project writeup using this [template](https://github.com/udacity/CarND-Traffic-Sign-Classifier-Project/blob/master/writeup_template.md) as a guide. The writeup can be in a markdown or pdf file. "
   ]
  },
  {
   "cell_type": "markdown",
   "metadata": {},
   "source": [
    "> **Note**: Once you have completed all of the code implementations and successfully answered each question above, you may finalize your work by exporting the iPython Notebook as an HTML document. You can do this by using the menu above and navigating to  \\n\",\n",
    "    \"**File -> Download as -> HTML (.html)**. Include the finished document along with this notebook as your submission."
   ]
  },
  {
   "cell_type": "markdown",
   "metadata": {},
   "source": [
    "---\n",
    "\n",
    "## Step 4 (Optional): Visualize the Neural Network's State with Test Images\n",
    "\n",
    " This Section is not required to complete but acts as an additional excersise for understaning the output of a neural network's weights. While neural networks can be a great learning device they are often referred to as a black box. We can understand what the weights of a neural network look like better by plotting their feature maps. After successfully training your neural network you can see what it's feature maps look like by plotting the output of the network's weight layers in response to a test stimuli image. From these plotted feature maps, it's possible to see what characteristics of an image the network finds interesting. For a sign, maybe the inner network feature maps react with high activation to the sign's boundary outline or to the contrast in the sign's painted symbol.\n",
    "\n",
    " Provided for you below is the function code that allows you to get the visualization output of any tensorflow weight layer you want. The inputs to the function should be a stimuli image, one used during training or a new one you provided, and then the tensorflow variable name that represents the layer's state during the training process, for instance if you wanted to see what the [LeNet lab's](https://classroom.udacity.com/nanodegrees/nd013/parts/fbf77062-5703-404e-b60c-95b78b2f3f9e/modules/6df7ae49-c61c-4bb2-a23e-6527e69209ec/lessons/601ae704-1035-4287-8b11-e2c2716217ad/concepts/d4aca031-508f-4e0b-b493-e7b706120f81) feature maps looked like for it's second convolutional layer you could enter conv2 as the tf_activation variable.\n",
    "\n",
    "For an example of what feature map outputs look like, check out NVIDIA's results in their paper [End-to-End Deep Learning for Self-Driving Cars](https://devblogs.nvidia.com/parallelforall/deep-learning-self-driving-cars/) in the section Visualization of internal CNN State. NVIDIA was able to show that their network's inner weights had high activations to road boundary lines by comparing feature maps from an image with a clear path to one without. Try experimenting with a similar test to show that your trained network's weights are looking for interesting features, whether it's looking at differences in feature maps from images with or without a sign, or even what feature maps look like in a trained network vs a completely untrained one on the same sign image.\n",
    "\n",
    "<figure>\n",
    " <img src=\"visualize_cnn.png\" width=\"380\" alt=\"Combined Image\" />\n",
    " <figcaption>\n",
    " <p></p> \n",
    " <p style=\"text-align: center;\"> Your output should look something like this (above)</p> \n",
    " </figcaption>\n",
    "</figure>\n",
    " <p></p> \n"
   ]
  },
  {
   "cell_type": "code",
   "execution_count": 17,
   "metadata": {},
   "outputs": [],
   "source": [
    "### Visualize your network's feature maps here.\n",
    "### Feel free to use as many code cells as needed.\n",
    "\n",
    "# image_input: the test image being fed into the network to produce the feature maps\n",
    "# tf_activation: should be a tf variable name used during your training procedure that represents the calculated state of a specific weight layer\n",
    "# activation_min/max: can be used to view the activation contrast in more detail, by default matplot sets min and max to the actual min and max values of the output\n",
    "# plt_num: used to plot out multiple different weight feature map sets on the same block, just extend the plt number for each new feature map entry\n",
    "\n",
    "def outputFeatureMap(image_input, tf_activation, activation_min=-1, activation_max=-1 ,plt_num=1):\n",
    "    # Here make sure to preprocess your image_input in a way your network expects\n",
    "    # with size, normalization, ect if needed\n",
    "    # image_input =\n",
    "    # Note: x should be the same name as your network's tensorflow data placeholder variable\n",
    "    # If you get an error tf_activation is not defined it may be having trouble accessing the variable from inside a function\n",
    "    activation = tf_activation.eval(session=sess, feed_dict={x : image_input, keep_prob: 1.0})\n",
    "    featuremaps = activation.shape[3]\n",
    "    plt.figure(plt_num, figsize=(15,15))\n",
    "    for featuremap in range(featuremaps):\n",
    "        plt.subplot(6,8, featuremap+1) # sets the number of feature maps to show on each row and column\n",
    "        plt.title('FeatureMap ' + str(featuremap)) # displays the feature map number\n",
    "        if activation_min != -1 & activation_max != -1:\n",
    "            plt.imshow(activation[0,:,:, featuremap], interpolation=\"nearest\", vmin =activation_min, vmax=activation_max, cmap=\"hot\")\n",
    "        elif activation_max != -1:\n",
    "            plt.imshow(activation[0,:,:, featuremap], interpolation=\"nearest\", vmax=activation_max, cmap=\"hot\")\n",
    "        elif activation_min !=-1:\n",
    "            plt.imshow(activation[0,:,:, featuremap], interpolation=\"nearest\", vmin=activation_min, cmap=\"hot\")\n",
    "        else:\n",
    "            plt.imshow(activation[0,:,:, featuremap], interpolation=\"nearest\", cmap=\"hot\")"
   ]
  },
  {
   "cell_type": "code",
   "execution_count": 20,
   "metadata": {},
   "outputs": [
    {
     "name": "stdout",
     "output_type": "stream",
     "text": [
      "INFO:tensorflow:Restoring parameters from ./lenet\n"
     ]
    },
    {
     "data": {
      "image/png": "[encoded data removed]",
      "text/plain": [
       "<matplotlib.figure.Figure at 0x7f5d9c34e128>"
      ]
     },
     "metadata": {
      "needs_background": "light"
     },
     "output_type": "display_data"
    },
    {
     "data": {
      "image/png": "[encoded data removed]",
      "text/plain": [
       "<matplotlib.figure.Figure at 0x7f5d95dc5cf8>"
      ]
     },
     "metadata": {
      "needs_background": "light"
     },
     "output_type": "display_data"
    }
   ],
   "source": [
    "with tf.Session() as sess:\n",
    "    saver.restore(sess, tf.train.latest_checkpoint('.'))\n",
    "    conv1 = sess.graph.get_tensor_by_name('convolution1_relu:0')\n",
    "    img = np.array(X_new_normalized[0]).reshape(1,32,32,1)\n",
    "    outputFeatureMap(img, conv1)\n",
    "    plt.savefig('activation_maps1.png')\n",
    "    conv2 = sess.graph.get_tensor_by_name('convolution2_relu:0')\n",
    "    outputFeatureMap(img, conv2, plt_num=2)\n",
    "    plt.savefig('activation_maps2.png')"
   ]
  },
  {
   "cell_type": "code",
   "execution_count": null,
   "metadata": {},
   "outputs": [],
   "source": []
  }
 ],
 "metadata": {
  "anaconda-cloud": {},
  "kernelspec": {
   "display_name": "Python 3",
   "language": "python",
   "name": "python3"
  },
  "language_info": {
   "codemirror_mode": {
    "name": "ipython",
    "version": 3
   },
   "file_extension": ".py",
   "mimetype": "text/x-python",
   "name": "python",
   "nbconvert_exporter": "python",
   "pygments_lexer": "ipython3",
   "version": "3.6.3"
  }
 },
 "nbformat": 4,
 "nbformat_minor": 1
}
